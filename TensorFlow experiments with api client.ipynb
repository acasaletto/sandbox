{
    "nbformat_minor": 1, 
    "cells": [
        {
            "source": "<table style=\"border: none\" align=\"left\">\n   <tr style=\"border: none\">\n      <th style=\"border: none\"><font face=\"verdana\" size=\"4\" color=\"black\"><b>From tensorflow experiment to scoring with</b></font><font face=\"monospace\" size=\"4\" color=\"darkblue\"><b> watson-machine-learning-client</b></font></th>\n      <th style=\"border: none\"><img src=\"https://github.com/pmservice/customer-satisfaction-prediction/blob/master/app/static/images/ml_icon_gray.png?raw=true\" alt=\"Watson Machine Learning icon\" height=\"40\" width=\"40\"></th>\n   </tr> \n   <tr style=\"border: none\">\n       <td style=\"border: none\"><img src=\"https://github.com/pmservice/wml-sample-models/raw/master/scikit-learn/hand-written-digits-recognition/images/numbers_banner-04.png\" width=\"600\" alt=\"Icon\"></td>\n   </tr>\n</table>", 
            "cell_type": "markdown", 
            "metadata": {}
        }, 
        {
            "source": "This notebook contains steps and code to demonstrate support of Deep Learning model training and scoring in Watson Machine Learning Service. This notebook introduces commands for getting data, training_definition persistance to Watson Machine Learning repository, model training, model persistance, model deployment and scoring.\n\nSome familiarity with Python is helpful. This notebook uses Python 3.\n\n\n## Learning goals\n\nThe learning goals of this notebook are:\n\n-  Working with Watson Machine Learning experiments to train Deep Learning models (TensorFlow).\n-  Saving trained models in Watson Machine Learning repository.\n-  Online deployment and scoring of trained model.\n\n\n## Contents\n\nThis notebook contains the following parts:\n\n1.\t[Setup](#setup)\n2.\t[Training definition](#definition)\n3.\t[Experiment definition](#experiment)\n4.\t[Experiment Run](#run)\n5.\t[Deploy and Score](#scoring)\n6.\t[Summary and next steps](#summary)", 
            "cell_type": "markdown", 
            "metadata": {}
        }, 
        {
            "source": "<a id=\"setup\"></a>\n## 1. Setup\n\nBefore you use the sample code in this notebook, you must perform the following setup tasks:\n\n-  Create a [Watson Machine Learning Service](https://console.ng.bluemix.net/catalog/services/ibm-watson-machine-learning/) instance (a lite plan is offered). \n-  Create [Cloud Object Storage (COS)](https://console.bluemix.net/catalog/infrastructure/cloud-object-storage) instance (a lite plan is offered).\n    - After you create COS instance, go to your COS dashboard.\n    - In \"Service credentials\" tab, click on \"New Credential\",\n    - Add inline configuration parameter: {\"HMAC\":true}, click \"Add\".\n\n    This configuration parameter will add section below to instance credentials which will be used later on,\n    ```\n      \"cos_hmac_keys\": {\n            \"access_key_id\": \"722432c254bc4eaa96e05897bf2779e2\",\n            \"secret_access_key\": \"286965ac10ecd4de8b44306288c7f5a3e3cf81976a03075c\"\n       }\n    ```", 
            "cell_type": "markdown", 
            "metadata": {}
        }, 
        {
            "source": "### 1.1 Working with Cloud Object Storage", 
            "cell_type": "markdown", 
            "metadata": {}
        }, 
        {
            "source": "Boto library allows Python developers to manage Cloud Object Storage.", 
            "cell_type": "markdown", 
            "metadata": {}
        }, 
        {
            "execution_count": 1, 
            "cell_type": "code", 
            "metadata": {}, 
            "outputs": [], 
            "source": "import ibm_boto3\nfrom ibm_botocore.client import Config\nimport os\nimport json\nimport warnings\nimport time\nwarnings.filterwarnings('ignore')"
        }, 
        {
            "source": "We define the endpoint we will use. You can find this information in \"Endpoint\" section of your Cloud Object Storage intance's dashbord.", 
            "cell_type": "markdown", 
            "metadata": {}
        }, 
        {
            "execution_count": 4, 
            "cell_type": "code", 
            "metadata": {}, 
            "outputs": [
                {
                    "ename": "NameError", 
                    "evalue": "name 'cos_credentials' is not defined", 
                    "traceback": [
                        "\u001b[1;31m\u001b[0m", 
                        "\u001b[1;31mNameError\u001b[0mTraceback (most recent call last)", 
                        "\u001b[1;32m<ipython-input-4-a807c8d8b639>\u001b[0m in \u001b[0;36m<module>\u001b[1;34m()\u001b[0m\n\u001b[0;32m     13\u001b[0m },\n\u001b[0;32m     14\u001b[0m \u001b[1;33m\u001b[0m\u001b[0m\n\u001b[1;32m---> 15\u001b[1;33m \u001b[0mapi_key\u001b[0m \u001b[1;33m=\u001b[0m \u001b[0mcos_credentials\u001b[0m\u001b[1;33m[\u001b[0m\u001b[1;34m'apikey'\u001b[0m\u001b[1;33m]\u001b[0m\u001b[1;33m\u001b[0m\u001b[0m\n\u001b[0m\u001b[0;32m     16\u001b[0m \u001b[0mservice_instance_id\u001b[0m \u001b[1;33m=\u001b[0m \u001b[0mcos_credentials\u001b[0m\u001b[1;33m[\u001b[0m\u001b[1;34m'resource_instance_id'\u001b[0m\u001b[1;33m]\u001b[0m\u001b[1;33m\u001b[0m\u001b[0m\n\u001b[0;32m     17\u001b[0m \u001b[0mauth_endpoint\u001b[0m \u001b[1;33m=\u001b[0m \u001b[1;34m'https://iam.bluemix.net/oidc/token'\u001b[0m\u001b[1;33m\u001b[0m\u001b[0m\n", 
                        "\u001b[1;31mNameError\u001b[0m: name 'cos_credentials' is not defined"
                    ], 
                    "output_type": "error"
                }
            ], 
            "source": "{\n  \"apikey\": \"JmksB4QxMMNyMGlbwwr928uHjKxtBofjayoPXx8w3Tfq\",\n  \"cos_hmac_keys\": {\n    \"access_key_id\": \"20691e7796494a55b0086763eeece00c\",\n    \"secret_access_key\": \"9fca51949d9af2e6fc9511d5caff9382b6edd2807334672c\"\n  },\n  \"endpoints\": \"https://cos-service.bluemix.net/endpoints\",\n  \"iam_apikey_description\": \"Auto generated apikey during resource-key operation for Instance - crn:v1:bluemix:public:cloud-object-storage:global:a/298cbf9f271000e4aedc4937e76bc54f:7e6b5d78-9372-4c21-b43b-4a31bf63c7db::\",\n  \"iam_apikey_name\": \"auto-generated-apikey-20691e77-9649-4a55-b008-6763eeece00c\",\n  \"iam_role_crn\": \"crn:v1:bluemix:public:iam::::serviceRole:Writer\",\n  \"iam_serviceid_crn\": \"crn:v1:bluemix:public:iam-identity::a/298cbf9f271000e4aedc4937e76bc54f::serviceid:ServiceId-c3a39f3e-e9d0-4f20-9431-b39440bd3351\",\n  \"resource_instance_id\": \"crn:v1:bluemix:public:cloud-object-storage:global:a/298cbf9f271000e4aedc4937e76bc54f:7e6b5d78-9372-4c21-b43b-4a31bf63c7db::\"\n},\n\napi_key = cos_credentials['apikey']\nservice_instance_id = cos_credentials['resource_instance_id']\nauth_endpoint = 'https://iam.bluemix.net/oidc/token'\nservice_endpoint = 'https://s3-api.us-geo.objectstorage.softlayer.net'"
        }, 
        {
            "source": "We create Boto resource by providing type, endpoint_url and credentials.", 
            "cell_type": "markdown", 
            "metadata": {}
        }, 
        {
            "execution_count": 7, 
            "cell_type": "code", 
            "metadata": {}, 
            "outputs": [], 
            "source": "cos = ibm_boto3.resource('s3',\n                         ibm_api_key_id=api_key,\n                         ibm_service_instance_id=service_instance_id,\n                         ibm_auth_endpoint=auth_endpoint,\n                         config=Config(signature_version='oauth'),\n                         endpoint_url=service_endpoint)"
        }, 
        {
            "source": "Let's create the buckets we will use to store training data and training results.", 
            "cell_type": "markdown", 
            "metadata": {}
        }, 
        {
            "execution_count": 9, 
            "cell_type": "code", 
            "metadata": {}, 
            "outputs": [
                {
                    "output_type": "stream", 
                    "name": "stdout", 
                    "text": "Creating bucket \"train-data-experiment-0b6446ce-bfc1-442c-932a-98949628bb49\"...\nCreating bucket \"train-result-experiment-0b6446ce-bfc1-442c-932a-98949628bb49\"...\n"
                }
            ], 
            "source": "uuid = '0b6446ce-bfc1-442c-932a-98949628bb49'\nbuckets = ['train-data-experiment-' + uuid, 'train-result-experiment-' + uuid]\n\nfor bucket in buckets:\n    if not cos.Bucket(bucket) in cos.buckets.all():\n        print('Creating bucket \"{}\"...'.format(bucket))\n        try:\n            cos.create_bucket(Bucket=bucket)\n        except ibm_boto3.exceptions.ibm_botocore.client.ClientError as e:\n            print('Error: {}.'.format(e.response['Error']['Message']))"
        }, 
        {
            "source": "Now we should have 2 new buckets created.", 
            "cell_type": "markdown", 
            "metadata": {}
        }, 
        {
            "execution_count": 14, 
            "cell_type": "code", 
            "metadata": {}, 
            "outputs": [
                {
                    "output_type": "stream", 
                    "name": "stdout", 
                    "text": "['train-data-experiment-0b6446ce-bfc1-442c-932a-98949628bb49', 'train-result-experiment-0b6446ce-bfc1-442c-932a-98949628bb49']\n"
                }
            ], 
            "source": "print([bkt.name for bkt in list(cos.buckets.all()) if uuid in bkt.name])"
        }, 
        {
            "source": "### 1.2 Downloading training data and upload it to COS buckets.", 
            "cell_type": "markdown", 
            "metadata": {}
        }, 
        {
            "source": "Let's download our training data and upload them to 'training-data' bucket.\nWe will create a list of links for training dataset", 
            "cell_type": "markdown", 
            "metadata": {}
        }, 
        {
            "execution_count": 15, 
            "cell_type": "code", 
            "metadata": {}, 
            "outputs": [], 
            "source": "data_links = ['http://yann.lecun.com/exdb/mnist/train-images-idx3-ubyte.gz',\n              'http://yann.lecun.com/exdb/mnist/train-labels-idx1-ubyte.gz',\n              'http://yann.lecun.com/exdb/mnist/t10k-images-idx3-ubyte.gz',\n              'http://yann.lecun.com/exdb/mnist/t10k-labels-idx1-ubyte.gz']"
        }, 
        {
            "source": "Below snippet will create 'MNIST_DATA' folder and download the files from links.\n\n**Tip:** First, please install wget library by the command below\n`!pip install wget`", 
            "cell_type": "markdown", 
            "metadata": {}
        }, 
        {
            "execution_count": 16, 
            "cell_type": "code", 
            "metadata": {}, 
            "outputs": [
                {
                    "output_type": "stream", 
                    "name": "stdout", 
                    "text": "t10k-images-idx3-ubyte.gz  train-images-idx3-ubyte.gz\r\nt10k-labels-idx1-ubyte.gz  train-labels-idx1-ubyte.gz\r\n"
                }
            ], 
            "source": "import wget, os\n\ndata_dir = 'MNIST_DATA'\nif not os.path.isdir(data_dir):\n    os.mkdir(data_dir)\n\nfor link in data_links:\n    if not os.path.isfile(os.path.join(data_dir, os.path.join(link.split('/')[-1]))):\n        wget.download(link, out=data_dir)  \n        \n!ls MNIST_DATA"
        }, 
        {
            "source": "Upload the data files to created buckets.", 
            "cell_type": "markdown", 
            "metadata": {}
        }, 
        {
            "execution_count": 17, 
            "cell_type": "code", 
            "metadata": {}, 
            "outputs": [
                {
                    "output_type": "stream", 
                    "name": "stdout", 
                    "text": "t10k-labels-idx1-ubyte.gz is uploaded.\ntrain-images-idx3-ubyte.gz is uploaded.\ntrain-labels-idx1-ubyte.gz is uploaded.\nt10k-images-idx3-ubyte.gz is uploaded.\n"
                }
            ], 
            "source": "bucket_name = buckets[0]\nbucket_obj = cos.Bucket(bucket_name)\n\nfor filename in os.listdir(data_dir):\n    with open(os.path.join(data_dir, filename), 'rb') as data: \n        bucket_obj.upload_file(os.path.join(data_dir, filename), filename)\n        print('{} is uploaded.'.format(filename))"
        }, 
        {
            "source": "Let's see the list of all buckets and their contents.", 
            "cell_type": "markdown", 
            "metadata": {}
        }, 
        {
            "execution_count": 18, 
            "cell_type": "code", 
            "metadata": {}, 
            "outputs": [
                {
                    "output_type": "stream", 
                    "name": "stdout", 
                    "text": "Object key: t10k-images-idx3-ubyte.gz\nObject size (kb): 1610.2314453125\nObject key: t10k-labels-idx1-ubyte.gz\nObject size (kb): 4.435546875\nObject key: train-images-idx3-ubyte.gz\nObject size (kb): 9680.099609375\nObject key: train-labels-idx1-ubyte.gz\nObject size (kb): 28.2041015625\n"
                }
            ], 
            "source": "for obj in bucket_obj.objects.all():\n    print('Object key: {}'.format(obj.key))\n    print('Object size (kb): {}'.format(obj.size/1024))"
        }, 
        {
            "source": "We are done with Cloud Object Storage, we are ready to train our model!", 
            "cell_type": "markdown", 
            "metadata": {}
        }, 
        {
            "source": "### 1.3 Work with the Watson Machine Learning instance", 
            "cell_type": "markdown", 
            "metadata": {}
        }, 
        {
            "source": "Authenticate to Watson Machine Learning service on Bluemix.", 
            "cell_type": "markdown", 
            "metadata": {}
        }, 
        {
            "execution_count": 5, 
            "cell_type": "code", 
            "metadata": {}, 
            "outputs": [], 
            "source": "import urllib3, requests, json, base64, time, os"
        }, 
        {
            "source": "**Action**: Put authentication information from your instance of Watson Machine Learning service here.", 
            "cell_type": "markdown", 
            "metadata": {}
        }, 
        {
            "execution_count": 6, 
            "cell_type": "code", 
            "metadata": {}, 
            "outputs": [], 
            "source": "wml_credentials = {\n  \"url\": \"https://ibm-watson-ml.mybluemix.net\",\n  \"access_key\": \"ZGbdxBvCCm1wnXdvwAtDqF+KQWbSX3dnSXRhka9qiGd6PJT+Xl8OYfwfpdjfDieJHxGxQ3pIogjgEOjN0TGDTcL0h32gVzPkwMbmHXNpi+FQYUqQmv73SQJrb1WXWeZv\",\n  \"username\": \"e2146647-22fa-4b13-9540-9e6de422cc2e\",\n  \"password\": \"1555668d-3796-4b1c-bba4-95e54bc5c1ec\",\n  \"instance_id\": \"264a32df-c5d5-48a4-9129-d12e8911ebdf\"\n}"
        }, 
        {
            "source": "#### Install `watson-machine-learning-client` from pypi", 
            "cell_type": "markdown", 
            "metadata": {}
        }, 
        {
            "execution_count": 7, 
            "cell_type": "code", 
            "metadata": {}, 
            "outputs": [
                {
                    "output_type": "stream", 
                    "name": "stdout", 
                    "text": "Collecting watson-machine-learning-client==0.3.701\n  Downloading watson_machine_learning_client-0.3.701-py3-none-any.whl (450kB)\n\u001b[K    100% |\u2588\u2588\u2588\u2588\u2588\u2588\u2588\u2588\u2588\u2588\u2588\u2588\u2588\u2588\u2588\u2588\u2588\u2588\u2588\u2588\u2588\u2588\u2588\u2588\u2588\u2588\u2588\u2588\u2588\u2588\u2588\u2588| 450kB 2.3MB/s eta 0:00:01\n\u001b[?25hCollecting lomond (from watson-machine-learning-client==0.3.701)\n  Downloading lomond-0.1.13-py2.py3-none-any.whl\nRequirement already up-to-date: tabulate in /usr/local/src/conda3_runtime.v27/4.1.1/lib/python3.5/site-packages (from watson-machine-learning-client==0.3.701)\nCollecting tqdm (from watson-machine-learning-client==0.3.701)\n  Downloading tqdm-4.19.5-py2.py3-none-any.whl (51kB)\n\u001b[K    100% |\u2588\u2588\u2588\u2588\u2588\u2588\u2588\u2588\u2588\u2588\u2588\u2588\u2588\u2588\u2588\u2588\u2588\u2588\u2588\u2588\u2588\u2588\u2588\u2588\u2588\u2588\u2588\u2588\u2588\u2588\u2588\u2588| 61kB 6.1MB/s eta 0:00:01\n\u001b[?25hCollecting requests (from watson-machine-learning-client==0.3.701)\n  Downloading requests-2.18.4-py2.py3-none-any.whl (88kB)\n\u001b[K    100% |\u2588\u2588\u2588\u2588\u2588\u2588\u2588\u2588\u2588\u2588\u2588\u2588\u2588\u2588\u2588\u2588\u2588\u2588\u2588\u2588\u2588\u2588\u2588\u2588\u2588\u2588\u2588\u2588\u2588\u2588\u2588\u2588| 92kB 6.3MB/s eta 0:00:01\n\u001b[?25hCollecting urllib3 (from watson-machine-learning-client==0.3.701)\n  Downloading urllib3-1.22-py2.py3-none-any.whl (132kB)\n\u001b[K    100% |\u2588\u2588\u2588\u2588\u2588\u2588\u2588\u2588\u2588\u2588\u2588\u2588\u2588\u2588\u2588\u2588\u2588\u2588\u2588\u2588\u2588\u2588\u2588\u2588\u2588\u2588\u2588\u2588\u2588\u2588\u2588\u2588| 133kB 5.4MB/s eta 0:00:01\n\u001b[?25hCollecting certifi (from watson-machine-learning-client==0.3.701)\n  Downloading certifi-2018.1.18-py2.py3-none-any.whl (151kB)\n\u001b[K    100% |\u2588\u2588\u2588\u2588\u2588\u2588\u2588\u2588\u2588\u2588\u2588\u2588\u2588\u2588\u2588\u2588\u2588\u2588\u2588\u2588\u2588\u2588\u2588\u2588\u2588\u2588\u2588\u2588\u2588\u2588\u2588\u2588| 153kB 5.6MB/s eta 0:00:01\n\u001b[?25hCollecting pandas (from watson-machine-learning-client==0.3.701)\n  Downloading pandas-0.22.0-cp35-cp35m-manylinux1_x86_64.whl (25.7MB)\n\u001b[K    100% |\u2588\u2588\u2588\u2588\u2588\u2588\u2588\u2588\u2588\u2588\u2588\u2588\u2588\u2588\u2588\u2588\u2588\u2588\u2588\u2588\u2588\u2588\u2588\u2588\u2588\u2588\u2588\u2588\u2588\u2588\u2588\u2588| 25.7MB 46kB/s  eta 0:00:01\n\u001b[?25hCollecting six>=1.10.0 (from lomond->watson-machine-learning-client==0.3.701)\n  Downloading six-1.11.0-py2.py3-none-any.whl\nCollecting chardet<3.1.0,>=3.0.2 (from requests->watson-machine-learning-client==0.3.701)\n  Downloading chardet-3.0.4-py2.py3-none-any.whl (133kB)\n\u001b[K    100% |\u2588\u2588\u2588\u2588\u2588\u2588\u2588\u2588\u2588\u2588\u2588\u2588\u2588\u2588\u2588\u2588\u2588\u2588\u2588\u2588\u2588\u2588\u2588\u2588\u2588\u2588\u2588\u2588\u2588\u2588\u2588\u2588| 143kB 5.6MB/s eta 0:00:01\n\u001b[?25hCollecting idna<2.7,>=2.5 (from requests->watson-machine-learning-client==0.3.701)\n  Downloading idna-2.6-py2.py3-none-any.whl (56kB)\n\u001b[K    100% |\u2588\u2588\u2588\u2588\u2588\u2588\u2588\u2588\u2588\u2588\u2588\u2588\u2588\u2588\u2588\u2588\u2588\u2588\u2588\u2588\u2588\u2588\u2588\u2588\u2588\u2588\u2588\u2588\u2588\u2588\u2588\u2588| 61kB 5.8MB/s eta 0:00:01\n\u001b[?25hCollecting python-dateutil>=2 (from pandas->watson-machine-learning-client==0.3.701)\n  Downloading python_dateutil-2.6.1-py2.py3-none-any.whl (194kB)\n\u001b[K    100% |\u2588\u2588\u2588\u2588\u2588\u2588\u2588\u2588\u2588\u2588\u2588\u2588\u2588\u2588\u2588\u2588\u2588\u2588\u2588\u2588\u2588\u2588\u2588\u2588\u2588\u2588\u2588\u2588\u2588\u2588\u2588\u2588| 194kB 4.2MB/s eta 0:00:01\n\u001b[?25hCollecting numpy>=1.9.0 (from pandas->watson-machine-learning-client==0.3.701)\n  Downloading numpy-1.14.0-cp35-cp35m-manylinux1_x86_64.whl (17.1MB)\n\u001b[K    100% |\u2588\u2588\u2588\u2588\u2588\u2588\u2588\u2588\u2588\u2588\u2588\u2588\u2588\u2588\u2588\u2588\u2588\u2588\u2588\u2588\u2588\u2588\u2588\u2588\u2588\u2588\u2588\u2588\u2588\u2588\u2588\u2588| 17.1MB 70kB/s  eta 0:00:01   55% |\u2588\u2588\u2588\u2588\u2588\u2588\u2588\u2588\u2588\u2588\u2588\u2588\u2588\u2588\u2588\u2588\u2588\u258a              | 9.5MB 48.0MB/s eta 0:00:01\n\u001b[?25hCollecting pytz>=2011k (from pandas->watson-machine-learning-client==0.3.701)\n  Downloading pytz-2017.3-py2.py3-none-any.whl (511kB)\n\u001b[K    100% |\u2588\u2588\u2588\u2588\u2588\u2588\u2588\u2588\u2588\u2588\u2588\u2588\u2588\u2588\u2588\u2588\u2588\u2588\u2588\u2588\u2588\u2588\u2588\u2588\u2588\u2588\u2588\u2588\u2588\u2588\u2588\u2588| 512kB 2.3MB/s eta 0:00:01\n\u001b[?25hInstalling collected packages: six, lomond, tqdm, urllib3, chardet, certifi, idna, requests, python-dateutil, numpy, pytz, pandas, watson-machine-learning-client\nSuccessfully installed certifi-2018.1.18 chardet-3.0.4 idna-2.6 lomond-0.1.13 numpy-1.14.0 pandas-0.22.0 python-dateutil-2.6.1 pytz-2017.3 requests-2.18.4 six-1.11.0 tqdm-4.19.5 urllib3-1.22 watson-machine-learning-client-0.3.701\n"
                }
            ], 
            "source": "!pip install --upgrade watson-machine-learning-client==0.3.701"
        }, 
        {
            "source": "**Tip**: If above install fails due to \"AssertionError: Multiple .dist-info ...\", please uninstall client library and remove the build directory with the commands below, then run the pip install again.\n\n`!rm -rf /tmp/<directory-id-found-in-error>/pip-build/watson-machine-learning-client`\n\nwhere for example, directory-id: s130-c0573632d58e90-35c9a7ecf27a\n\n", 
            "cell_type": "markdown", 
            "metadata": {}
        }, 
        {
            "source": "#### Import `watson-machine-learning-client` and authenticate to service instance", 
            "cell_type": "markdown", 
            "metadata": {}
        }, 
        {
            "execution_count": 8, 
            "cell_type": "code", 
            "metadata": {}, 
            "outputs": [], 
            "source": "from watson_machine_learning_client import WatsonMachineLearningAPIClient"
        }, 
        {
            "execution_count": 9, 
            "cell_type": "code", 
            "metadata": {}, 
            "outputs": [], 
            "source": "client = WatsonMachineLearningAPIClient(wml_credentials)"
        }, 
        {
            "execution_count": 10, 
            "cell_type": "code", 
            "metadata": {}, 
            "outputs": [
                {
                    "output_type": "stream", 
                    "name": "stdout", 
                    "text": "0.3.701\n"
                }
            ], 
            "source": "print(client.version)"
        }, 
        {
            "source": "<a id=\"definition\"></a>\n## 2. Training definitions", 
            "cell_type": "markdown", 
            "metadata": {}
        }, 
        {
            "source": "### 2.2 Save training definition ", 
            "cell_type": "markdown", 
            "metadata": {}
        }, 
        {
            "source": "#### Prepare training definition metadata", 
            "cell_type": "markdown", 
            "metadata": {}
        }, 
        {
            "execution_count": 11, 
            "cell_type": "code", 
            "metadata": {}, 
            "outputs": [], 
            "source": "model_definition_metadata = {\n            client.repository.DefinitionMetaNames.NAME: \"definition tf 1.2\",\n            client.repository.DefinitionMetaNames.AUTHOR_EMAIL: \"js@js.com\",\n            client.repository.DefinitionMetaNames.FRAMEWORK_NAME: \"tensorflow\",\n            client.repository.DefinitionMetaNames.FRAMEWORK_VERSION: \"1.2\",\n            client.repository.DefinitionMetaNames.RUNTIME_NAME: \"python\",\n            client.repository.DefinitionMetaNames.RUNTIME_VERSION: \"3.5\",\n            client.repository.DefinitionMetaNames.EXECUTION_COMMAND: \"python3 tensorflow_mnist_softmax.py --trainingIters 20\"\n            }"
        }, 
        {
            "execution_count": 12, 
            "cell_type": "code", 
            "metadata": {}, 
            "outputs": [], 
            "source": "model_definition_2_metadata = {\n            client.repository.DefinitionMetaNames.NAME: \"definition with metrics tf 1.3\",\n            client.repository.DefinitionMetaNames.AUTHOR_EMAIL: \"js@js.com\",\n            client.repository.DefinitionMetaNames.FRAMEWORK_NAME: \"tensorflow\",\n            client.repository.DefinitionMetaNames.FRAMEWORK_VERSION: \"1.3\",\n            client.repository.DefinitionMetaNames.RUNTIME_NAME: \"python\",\n            client.repository.DefinitionMetaNames.RUNTIME_VERSION: \"3.5\",\n            client.repository.DefinitionMetaNames.EXECUTION_COMMAND: \"python3 convolutional_network.py --trainImagesFile ${DATA_DIR}/train-images-idx3-ubyte.gz --trainLabelsFile ${DATA_DIR}/train-labels-idx1-ubyte.gz --testImagesFile ${DATA_DIR}/t10k-images-idx3-ubyte.gz --testLabelsFile ${DATA_DIR}/t10k-labels-idx1-ubyte.gz --learningRate 0.001 --trainingIters 20000\"\n            }"
        }, 
        {
            "source": "#### Get sample model definition content files from git", 
            "cell_type": "markdown", 
            "metadata": {}
        }, 
        {
            "execution_count": 13, 
            "cell_type": "code", 
            "metadata": {}, 
            "outputs": [
                {
                    "output_type": "stream", 
                    "name": "stdout", 
                    "text": "--2018-02-07 08:58:34--  https://github.com/pmservice/wml-sample-models/raw/master/tensorflow/hand-written-digit-recognition/definition/tf-softmax-model.zip\nResolving github.com (github.com)... 192.30.253.113, 192.30.253.112\nConnecting to github.com (github.com)|192.30.253.113|:443... connected.\nHTTP request sent, awaiting response... 302 Found\nLocation: https://raw.githubusercontent.com/pmservice/wml-sample-models/master/tensorflow/hand-written-digit-recognition/definition/tf-softmax-model.zip [following]\n--2018-02-07 08:58:34--  https://raw.githubusercontent.com/pmservice/wml-sample-models/master/tensorflow/hand-written-digit-recognition/definition/tf-softmax-model.zip\nResolving raw.githubusercontent.com (raw.githubusercontent.com)... 151.101.48.133\nConnecting to raw.githubusercontent.com (raw.githubusercontent.com)|151.101.48.133|:443... connected.\nHTTP request sent, awaiting response... 200 OK\nLength: 3847 (3.8K) [application/zip]\nSaving to: \u2018tf-softmax-model.zip\u2019\n\n100%[======================================>] 3,847       --.-K/s   in 0s      \n\n2018-02-07 08:58:35 (27.9 MB/s) - \u2018tf-softmax-model.zip\u2019 saved [3847/3847]\n\ntf-softmax-model.zip\n--2018-02-07 08:58:35--  https://github.com/pmservice/wml-sample-models/raw/master/tensorflow/hand-written-digit-recognition/definition/tf-model-metrics.zip\nResolving github.com (github.com)... 192.30.253.113, 192.30.253.112\nConnecting to github.com (github.com)|192.30.253.113|:443... connected.\nHTTP request sent, awaiting response... 302 Found\nLocation: https://raw.githubusercontent.com/pmservice/wml-sample-models/master/tensorflow/hand-written-digit-recognition/definition/tf-model-metrics.zip [following]\n--2018-02-07 08:58:36--  https://raw.githubusercontent.com/pmservice/wml-sample-models/master/tensorflow/hand-written-digit-recognition/definition/tf-model-metrics.zip\nResolving raw.githubusercontent.com (raw.githubusercontent.com)... 151.101.48.133\nConnecting to raw.githubusercontent.com (raw.githubusercontent.com)|151.101.48.133|:443... connected.\nHTTP request sent, awaiting response... 200 OK\nLength: 4666 (4.6K) [application/zip]\nSaving to: \u2018tf-model-metrics.zip\u2019\n\n100%[======================================>] 4,666       --.-K/s   in 0s      \n\n2018-02-07 08:58:37 (31.4 MB/s) - \u2018tf-model-metrics.zip\u2019 saved [4666/4666]\n\ntf-model-metrics.zip\n"
                }
            ], 
            "source": "filename_softmax = 'tf-softmax-model.zip'\nfilename_cnn = 'tf-model-metrics.zip'\n\nif os.path.isfile(filename_softmax):\n    !ls tf-softmax-model.zip\nelse:\n    !wget https://github.com/pmservice/wml-sample-models/raw/master/tensorflow/hand-written-digit-recognition/definition/tf-softmax-model.zip\n    !ls tf-softmax-model.zip\n    \nif os.path.isfile(filename_cnn):\n    !ls tf-model-metrics.zip\nelse:\n    !wget https://github.com/pmservice/wml-sample-models/raw/master/tensorflow/hand-written-digit-recognition/definition/tf-model-metrics.zip\n    !ls tf-model-metrics.zip"
        }, 
        {
            "source": "#### Publish training definition in Watson Machine Learning repository", 
            "cell_type": "markdown", 
            "metadata": {}
        }, 
        {
            "source": "##### Store definition 1", 
            "cell_type": "markdown", 
            "metadata": {}
        }, 
        {
            "execution_count": 14, 
            "cell_type": "code", 
            "metadata": {}, 
            "outputs": [
                {
                    "output_type": "stream", 
                    "name": "stdout", 
                    "text": "https://ibm-watson-ml.mybluemix.net/v3/ml_assets/training_definitions/5f6ae2fc-a872-473d-8629-8cad0bc8aab4\n"
                }
            ], 
            "source": "definition_details = client.repository.store_definition(filename_softmax, model_definition_metadata)\n\ndefinition_url = client.repository.get_definition_url(definition_details)\ndefinition_uid = client.repository.get_definition_uid(definition_details)\nprint(definition_url)"
        }, 
        {
            "source": "##### Store definition 2", 
            "cell_type": "markdown", 
            "metadata": {}
        }, 
        {
            "execution_count": 15, 
            "cell_type": "code", 
            "metadata": {}, 
            "outputs": [
                {
                    "output_type": "stream", 
                    "name": "stdout", 
                    "text": "https://ibm-watson-ml.mybluemix.net/v3/ml_assets/training_definitions/f481e63a-6403-4445-8545-d057c4f561e8\n"
                }
            ], 
            "source": "definition_2_details = client.repository.store_definition(filename_cnn, model_definition_2_metadata)\n\ndefinition_2_url = client.repository.get_definition_url(definition_2_details)\ndefinition_2_uid = client.repository.get_definition_uid(definition_2_details)\nprint(definition_2_url)"
        }, 
        {
            "source": "#### LIST stored definitions", 
            "cell_type": "markdown", 
            "metadata": {}
        }, 
        {
            "execution_count": 16, 
            "cell_type": "code", 
            "metadata": {}, 
            "outputs": [
                {
                    "output_type": "stream", 
                    "name": "stdout", 
                    "text": "------------------------------------  ------------------------------  ------------------------  ----------  ----------\nGUID                                  NAME                            CREATED                   FRAMEWORK   TYPE\n5f6ae2fc-a872-473d-8629-8cad0bc8aab4  definition tf 1.2               2018-02-07T14:58:42.824Z  tensorflow  definition\nf481e63a-6403-4445-8545-d057c4f561e8  definition with metrics tf 1.3  2018-02-07T14:58:47.680Z  tensorflow  definition\n------------------------------------  ------------------------------  ------------------------  ----------  ----------\n"
                }
            ], 
            "source": "client.repository.list_definitions()"
        }, 
        {
            "source": "<a id=\"experiment\"></a>\n## 3. Experiment definition", 
            "cell_type": "markdown", 
            "metadata": {}
        }, 
        {
            "source": "### 3.1 Save experiment", 
            "cell_type": "markdown", 
            "metadata": {}
        }, 
        {
            "source": "#### Get the list of supported configuration params", 
            "cell_type": "markdown", 
            "metadata": {}
        }, 
        {
            "execution_count": 17, 
            "cell_type": "code", 
            "metadata": {}, 
            "outputs": [
                {
                    "output_type": "stream", 
                    "name": "stdout", 
                    "text": "--------------------------  ----  --------\nMETA_PROP NAME              TYPE  REQUIRED\nNAME                        str   Y\nDESCRIPTION                 str   N\nAUTHOR_NAME                 str   N\nAUTHOR_EMAIL                str   Y\nEVALUATION_METHOD           str   N\nEVALUATION_METRICS          list  Y\nTRAINING_REFERENCES         json  Y\nTRAINING_DATA_REFERENCE     json  Y\nTRAINING_RESULTS_REFERENCE  json  Y\n--------------------------  ----  --------\n"
                }
            ], 
            "source": "client.repository.ExperimentMetaNames.show()"
        }, 
        {
            "source": "#### Experiment configuration dictionary\nCreate experiment that will train two models based on previously stored definitions.", 
            "cell_type": "markdown", 
            "metadata": {}
        }, 
        {
            "execution_count": 18, 
            "cell_type": "code", 
            "metadata": {}, 
            "outputs": [
                {
                    "ename": "NameError", 
                    "evalue": "name 'service_endpoint' is not defined", 
                    "traceback": [
                        "\u001b[1;31m\u001b[0m", 
                        "\u001b[1;31mNameError\u001b[0mTraceback (most recent call last)", 
                        "\u001b[1;32m<ipython-input-18-8749bd77cd4c>\u001b[0m in \u001b[0;36m<module>\u001b[1;34m()\u001b[0m\n\u001b[0;32m      7\u001b[0m             client.repository.ExperimentMetaNames.TRAINING_DATA_REFERENCE: {\n\u001b[0;32m      8\u001b[0m                             \"connection\": {\n\u001b[1;32m----> 9\u001b[1;33m                                 \u001b[1;34m\"endpoint_url\"\u001b[0m\u001b[1;33m:\u001b[0m \u001b[0mservice_endpoint\u001b[0m\u001b[1;33m,\u001b[0m\u001b[1;33m\u001b[0m\u001b[0m\n\u001b[0m\u001b[0;32m     10\u001b[0m                                 \u001b[1;34m\"access_key_id\"\u001b[0m\u001b[1;33m:\u001b[0m \u001b[0mcos_credentials\u001b[0m\u001b[1;33m[\u001b[0m\u001b[1;34m'cos_hmac_keys'\u001b[0m\u001b[1;33m]\u001b[0m\u001b[1;33m[\u001b[0m\u001b[1;34m'access_key_id'\u001b[0m\u001b[1;33m]\u001b[0m\u001b[1;33m,\u001b[0m\u001b[1;33m\u001b[0m\u001b[0m\n\u001b[0;32m     11\u001b[0m                                 \u001b[1;34m\"secret_access_key\"\u001b[0m\u001b[1;33m:\u001b[0m \u001b[0mcos_credentials\u001b[0m\u001b[1;33m[\u001b[0m\u001b[1;34m'cos_hmac_keys'\u001b[0m\u001b[1;33m]\u001b[0m\u001b[1;33m[\u001b[0m\u001b[1;34m'secret_access_key'\u001b[0m\u001b[1;33m]\u001b[0m\u001b[1;33m\u001b[0m\u001b[0m\n", 
                        "\u001b[1;31mNameError\u001b[0m: name 'service_endpoint' is not defined"
                    ], 
                    "output_type": "error"
                }
            ], 
            "source": "experiment_metadata = {\n            client.repository.ExperimentMetaNames.NAME: \"MNIST experiment\",\n            client.repository.ExperimentMetaNames.DESCRIPTION: \"mnist best model\",\n            client.repository.ExperimentMetaNames.AUTHOR_EMAIL: \"zawisza@ibm.com\",\n            client.repository.ExperimentMetaNames.EVALUATION_METHOD: \"multiclass\",\n            client.repository.ExperimentMetaNames.EVALUATION_METRICS: [\"accuracy\"],\n            client.repository.ExperimentMetaNames.TRAINING_DATA_REFERENCE: {\n                            \"connection\": {\n                                \"endpoint_url\": service_endpoint,\n                                \"access_key_id\": cos_credentials['cos_hmac_keys']['access_key_id'],\n                                \"secret_access_key\": cos_credentials['cos_hmac_keys']['secret_access_key']\n                            },\n                            \"source\": {\n                                \"bucket\": buckets[0],\n                            },\n                            \"type\": \"s3\"\n                        },\n            client.repository.ExperimentMetaNames.TRAINING_RESULTS_REFERENCE: {\n                            \"connection\": {\n                                \"endpoint_url\": service_endpoint,\n                                \"access_key_id\": cos_credentials['cos_hmac_keys']['access_key_id'],\n                                \"secret_access_key\": cos_credentials['cos_hmac_keys']['secret_access_key']\n                            },\n                            \"target\": {\n                                \"bucket\": buckets[1],\n                            },\n                            \"type\": \"s3\"\n                        },\n            client.repository.ExperimentMetaNames.TRAINING_REFERENCES: [\n                        {\n                            \"name\": \"mnist_nn\",\n                            \"training_definition_url\": definition_url,\n                        },\n                        {\n                            \"name\": \"mnist_cnn\",\n                            \"training_definition_url\": definition_2_url,\n                            \"compute_configuration\": {\"name\": \"small\"}\n                        },\n                    ],\n                }"
        }, 
        {
            "source": "#### Store experiment in Watson Machine Learning repository", 
            "cell_type": "markdown", 
            "metadata": {}
        }, 
        {
            "execution_count": 33, 
            "cell_type": "code", 
            "metadata": {}, 
            "outputs": [
                {
                    "output_type": "stream", 
                    "name": "stdout", 
                    "text": "92fc5618-db9c-4121-80d7-ed3f4552c0b1\n"
                }
            ], 
            "source": "experiment_details = client.repository.store_experiment(meta_props=experiment_metadata)\n\nexperiment_uid = client.repository.get_experiment_uid(experiment_details)\nprint(experiment_uid)"
        }, 
        {
            "source": "#### LIST stored experiments", 
            "cell_type": "markdown", 
            "metadata": {}
        }, 
        {
            "execution_count": 34, 
            "cell_type": "code", 
            "metadata": {}, 
            "outputs": [
                {
                    "output_type": "stream", 
                    "name": "stdout", 
                    "text": "------------------------------------  ----------------  ------------------------  ---------  ----------\nGUID                                  NAME              CREATED                   FRAMEWORK  TYPE\n92fc5618-db9c-4121-80d7-ed3f4552c0b1  MNIST experiment  2018-02-01T12:55:34.049Z  -          experiment\n------------------------------------  ----------------  ------------------------  ---------  ----------\n"
                }
            ], 
            "source": "client.repository.list_experiments()"
        }, 
        {
            "source": "#### UPDATE experiment\nYou can update experiment definition by calling below method.", 
            "cell_type": "markdown", 
            "metadata": {}
        }, 
        {
            "source": "experiment_details = client.repository.update_experiment(experiment_uid, experiment_metadata)", 
            "cell_type": "raw", 
            "metadata": {}
        }, 
        {
            "source": "#### GET experiment definition details", 
            "cell_type": "markdown", 
            "metadata": {}
        }, 
        {
            "execution_count": 35, 
            "cell_type": "code", 
            "metadata": {}, 
            "outputs": [], 
            "source": "details = client.repository.get_experiment_details(experiment_uid)"
        }, 
        {
            "source": "#### Delete experiment definition from repository", 
            "cell_type": "markdown", 
            "metadata": {}
        }, 
        {
            "source": "client.repository.delete(experiment_uid)", 
            "cell_type": "raw", 
            "metadata": {}
        }, 
        {
            "source": "<a id=\"run\"></a>\n## 4. Run experiment", 
            "cell_type": "markdown", 
            "metadata": {}
        }, 
        {
            "source": "### 4.1 Run experiment", 
            "cell_type": "markdown", 
            "metadata": {}
        }, 
        {
            "source": "**Tip:** To run experiment in background set optional parameter `asynchrounous=True` (or remove it)", 
            "cell_type": "markdown", 
            "metadata": {}
        }, 
        {
            "execution_count": 36, 
            "cell_type": "code", 
            "metadata": {}, 
            "outputs": [
                {
                    "output_type": "stream", 
                    "name": "stdout", 
                    "text": "\n\n#############################################################\n\nRunning 'df109248-070c-43e9-aa40-f18169e1dbe6' experiment run\n\n#############################################################\n\n\n\n\n------------------------------\n'training-IQ3NoFCkg' run (1/2)\n------------------------------\n\n\n"
                }, 
                {
                    "output_type": "stream", 
                    "name": "stderr", 
                    "text": "100%|\u2588\u2588\u2588\u2588\u2588\u2588\u2588\u2588\u2588\u2588| 10/10 [00:10<00:00,  1.00s/it]"
                }, 
                {
                    "output_type": "stream", 
                    "name": "stdout", 
                    "text": "Elapsed time: 10.419174671173096 -> training state: pending\n\n"
                }, 
                {
                    "output_type": "stream", 
                    "name": "stderr", 
                    "text": "\n100%|\u2588\u2588\u2588\u2588\u2588\u2588\u2588\u2588\u2588\u2588| 10/10 [00:10<00:00,  1.00s/it]"
                }, 
                {
                    "output_type": "stream", 
                    "name": "stdout", 
                    "text": "Elapsed time: 20.58488655090332 -> training state: pending\n\n"
                }, 
                {
                    "output_type": "stream", 
                    "name": "stderr", 
                    "text": "\n100%|\u2588\u2588\u2588\u2588\u2588\u2588\u2588\u2588\u2588\u2588| 10/10 [00:10<00:00,  1.00s/it]\n"
                }, 
                {
                    "output_type": "stream", 
                    "name": "stdout", 
                    "text": "Elapsed time: 30.92478895187378 -> training state: pending\n\n"
                }, 
                {
                    "output_type": "stream", 
                    "name": "stderr", 
                    "text": "100%|\u2588\u2588\u2588\u2588\u2588\u2588\u2588\u2588\u2588\u2588| 10/10 [00:10<00:00,  1.00s/it]"
                }, 
                {
                    "output_type": "stream", 
                    "name": "stdout", 
                    "text": "Elapsed time: 41.105644941329956 -> training state: pending\n\n"
                }, 
                {
                    "output_type": "stream", 
                    "name": "stderr", 
                    "text": "\n100%|\u2588\u2588\u2588\u2588\u2588\u2588\u2588\u2588\u2588\u2588| 10/10 [00:10<00:00,  1.00s/it]\n"
                }, 
                {
                    "output_type": "stream", 
                    "name": "stdout", 
                    "text": "Elapsed time: 52.745896339416504 -> training state: pending\n\n"
                }, 
                {
                    "output_type": "stream", 
                    "name": "stderr", 
                    "text": "100%|\u2588\u2588\u2588\u2588\u2588\u2588\u2588\u2588\u2588\u2588| 10/10 [00:10<00:00,  1.00s/it]\n"
                }, 
                {
                    "output_type": "stream", 
                    "name": "stdout", 
                    "text": "Elapsed time: 62.98328375816345 -> training state: pending\n\n"
                }, 
                {
                    "output_type": "stream", 
                    "name": "stderr", 
                    "text": "100%|\u2588\u2588\u2588\u2588\u2588\u2588\u2588\u2588\u2588\u2588| 10/10 [00:10<00:00,  1.00s/it]\n"
                }, 
                {
                    "output_type": "stream", 
                    "name": "stdout", 
                    "text": "Elapsed time: 73.21103596687317 -> training state: pending\n\n"
                }, 
                {
                    "output_type": "stream", 
                    "name": "stderr", 
                    "text": "100%|\u2588\u2588\u2588\u2588\u2588\u2588\u2588\u2588\u2588\u2588| 10/10 [00:10<00:00,  1.00s/it]"
                }, 
                {
                    "output_type": "stream", 
                    "name": "stdout", 
                    "text": "Elapsed time: 83.35318779945374 -> training state: pending\n\n"
                }, 
                {
                    "output_type": "stream", 
                    "name": "stderr", 
                    "text": "\n100%|\u2588\u2588\u2588\u2588\u2588\u2588\u2588\u2588\u2588\u2588| 10/10 [00:10<00:00,  1.00s/it]"
                }, 
                {
                    "output_type": "stream", 
                    "name": "stdout", 
                    "text": "Elapsed time: 93.54684019088745 -> training state: pending\n\n"
                }, 
                {
                    "output_type": "stream", 
                    "name": "stderr", 
                    "text": "\n100%|\u2588\u2588\u2588\u2588\u2588\u2588\u2588\u2588\u2588\u2588| 10/10 [00:10<00:00,  1.00s/it]"
                }, 
                {
                    "output_type": "stream", 
                    "name": "stdout", 
                    "text": "Elapsed time: 103.72801327705383 -> training state: pending\n\n"
                }, 
                {
                    "output_type": "stream", 
                    "name": "stderr", 
                    "text": "\n100%|\u2588\u2588\u2588\u2588\u2588\u2588\u2588\u2588\u2588\u2588| 10/10 [00:10<00:00,  1.00s/it]"
                }, 
                {
                    "output_type": "stream", 
                    "name": "stdout", 
                    "text": "Elapsed time: 113.89347219467163 -> training state: pending\n\n"
                }, 
                {
                    "output_type": "stream", 
                    "name": "stderr", 
                    "text": "\n100%|\u2588\u2588\u2588\u2588\u2588\u2588\u2588\u2588\u2588\u2588| 10/10 [00:10<00:00,  1.00s/it]"
                }, 
                {
                    "output_type": "stream", 
                    "name": "stdout", 
                    "text": "Elapsed time: 124.07702994346619 -> training state: completed\n\n\n\n------------------------------\n'training-TRNvoKCkR' run (2/2)\n------------------------------\n\n\n"
                }, 
                {
                    "output_type": "stream", 
                    "name": "stderr", 
                    "text": "\n100%|\u2588\u2588\u2588\u2588\u2588\u2588\u2588\u2588\u2588\u2588| 10/10 [00:10<00:00,  1.00s/it]"
                }, 
                {
                    "output_type": "stream", 
                    "name": "stdout", 
                    "text": "Elapsed time: 134.25892114639282 -> training state: pending\n\n"
                }, 
                {
                    "output_type": "stream", 
                    "name": "stderr", 
                    "text": "\n100%|\u2588\u2588\u2588\u2588\u2588\u2588\u2588\u2588\u2588\u2588| 10/10 [00:10<00:00,  1.00s/it]"
                }, 
                {
                    "output_type": "stream", 
                    "name": "stdout", 
                    "text": "Elapsed time: 144.46589422225952 -> training state: completed\n\n\n\n--------------------------------------------------------------------\nRun of 'df109248-070c-43e9-aa40-f18169e1dbe6' finished successfully.\n--------------------------------------------------------------------\n\n\n"
                }, 
                {
                    "output_type": "stream", 
                    "name": "stderr", 
                    "text": "\n"
                }
            ], 
            "source": "experiment_run_details = client.experiments.run(experiment_uid, asynchronous=False)"
        }, 
        {
            "source": "As we can see experiment run has fininshed.", 
            "cell_type": "markdown", 
            "metadata": {}
        }, 
        {
            "source": "#### GET experiment run UID", 
            "cell_type": "markdown", 
            "metadata": {}
        }, 
        {
            "execution_count": 37, 
            "cell_type": "code", 
            "metadata": {}, 
            "outputs": [
                {
                    "output_type": "stream", 
                    "name": "stdout", 
                    "text": "df109248-070c-43e9-aa40-f18169e1dbe6\n"
                }
            ], 
            "source": "experiment_run_id = client.experiments.get_run_uid(experiment_run_details)\nprint(experiment_run_id)"
        }, 
        {
            "source": "#### GET experiment details\nUse below method to get all information about particular experiment.", 
            "cell_type": "markdown", 
            "metadata": {}
        }, 
        {
            "execution_count": 38, 
            "cell_type": "code", 
            "metadata": {}, 
            "outputs": [], 
            "source": "experiment_details = client.experiments.get_details(experiment_uid)"
        }, 
        {
            "source": "You can use below print method to display experiment details (change cell type to code).", 
            "cell_type": "markdown", 
            "metadata": {}
        }, 
        {
            "source": "print(json.dumps(experiment_details, indent=2))", 
            "cell_type": "raw", 
            "metadata": {}
        }, 
        {
            "source": "#### GET run details\nUse below method to get particular experiment run details.", 
            "cell_type": "markdown", 
            "metadata": {}
        }, 
        {
            "execution_count": 39, 
            "cell_type": "code", 
            "metadata": {}, 
            "outputs": [], 
            "source": "run_details = client.experiments.get_run_details(experiment_run_id)"
        }, 
        {
            "source": "#### GET experiment run status\nYou can check experiment run status by calling `client.experiments.get_status(run_uid)` method. This is quite useful when running experiment in background.", 
            "cell_type": "markdown", 
            "metadata": {}
        }, 
        {
            "execution_count": 40, 
            "cell_type": "code", 
            "metadata": {}, 
            "outputs": [
                {
                    "output_type": "stream", 
                    "name": "stdout", 
                    "text": "{'submitted_at': '2018-02-01T12:56:27Z', 'state': 'completed', 'current_iteration': 1, 'current_at': '2018-02-01T12:56:27Z'}\n"
                }
            ], 
            "source": "status = client.experiments.get_status(experiment_run_id)\nprint(status)"
        }, 
        {
            "source": "#### MONITOR experiment run\nYou can monitor experiment run by calling `client.experiments.monitor_logs(run_uid)`. This method will stream training logs content to console.", 
            "cell_type": "markdown", 
            "metadata": {}
        }, 
        {
            "execution_count": 41, 
            "cell_type": "code", 
            "metadata": {}, 
            "outputs": [
                {
                    "output_type": "stream", 
                    "name": "stdout", 
                    "text": "\n\n########################################################################\n\nMonitor started for experiment run: df109248-070c-43e9-aa40-f18169e1dbe6\n\n########################################################################\n\n\n\n\n------------------\ntraining-IQ3NoFCkg\n------------------\n\n\n*** Begin Log History for training-IQ3NoFCkg ***\nTraining with training/test data at:\nDATA_DIR: /job/train-data-experiment-0b6446ce-bfc1-442c-932a-98949628bb49\nMODEL_DIR: /job/model-code\nTRAINING_JOB:\nTRAINING_COMMAND: python3 tensorflow_mnist_softmax.py --trainingIters 20\nStoring trained model at:\nRESULT_DIR: /job/train-result-experiment-0b6446ce-bfc1-442c-932a-98949628bb49\nBAZEL_VERSION=0.4.5\nCI_BUILD_PYTHON=python3\nCUDA_PKG_VERSION=8-0=8.0.61-1\nCUDA_VERSION=8.0.61\nCUDNN_VERSION=5.1.10\nDATA_DIR=/job/train-data-experiment-0b6446ce-bfc1-442c-932a-98949628bb49\nGPU_COUNT=1.000000\nHOME=/root\ntensor_shape {\ndim {\nsize: -1\n}\n}\n}\n}\nmethod_name: \"tensorflow/serving/classify\"\n*** End Log History for training-IQ3NoFCkg ***\n\n\n------------------\ntraining-TRNvoKCkR\n------------------\n\n\nTraining with training/test data at:\nDATA_DIR: /job/train-data-experiment-0b6446ce-bfc1-442c-932a-98949628bb49\nMODEL_DIR: /job/model-code\nTRAINING_JOB:\nTRAINING_COMMAND: python3 convolutional_network.py --trainImagesFile ${DATA_DIR}/train-images-idx3-ubyte.gz --trainLabelsFile ${DATA_DIR}/train-labels-idx1-ubyte.gz --testImagesFile ${DATA_DIR}/t10k-images-idx3-ubyte.gz --testLabelsFile ${DATA_DIR}/t10k-labels-idx1-ubyte.gz --learningRate 0.001 --trainingIters 20000\nStoring trained model at:\nRESULT_DIR: /job/train-result-experiment-0b6446ce-bfc1-442c-932a-98949628bb49\nBAZEL_VERSION=0.5.0\nCI_BUILD_PYTHON=python3\nCUDA_PKG_VERSION=8-0=8.0.61-1\nCUDA_VERSION=8.0.61\nCUDNN_VERSION=6.0.21\nDATA_DIR=/job/train-data-experiment-0b6446ce-bfc1-442c-932a-98949628bb49\nGPU_COUNT=1.000000\nHOME=/root\nJOB_STATE_DIR=/job\nLD_LIBRARY_PATH=/usr/local/cuda/extras/CUPTI/lib64:/usr/local/nvidia/lib:/usr/local/nvidia/lib64:/usr/local/cuda/lib64/stubs\nLEARNER_ID=1\nLIBRARY_PATH=/usr/local/cuda/lib64/stubs:\nMODEL_DIR=/job/model-code\nNVIDIA_CUDA_VERSION=8.0.61\nNVIDIA_DRIVER_CAPABILITIES=compute,utility\nNVIDIA_VISIBLE_DEVICES=all\nOLDPWD=/root\nPATH=/usr/local/nvidia/bin:/usr/local/cuda/bin:/usr/local/sbin:/usr/local/bin:/usr/sbin:/usr/bin:/sbin:/bin\nPROMETHEUS_PORT=tcp://172.21.91.116:9090\nPROMETHEUS_PORT_9090_TCP=tcp://172.21.91.116:9090\nPROMETHEUS_PORT_9090_TCP_ADDR=172.21.91.116\nPROMETHEUS_PORT_9090_TCP_PORT=9090\nPROMETHEUS_PORT_9090_TCP_PROTO=tcp\nPROMETHEUS_SERVICE_HOST=172.21.91.116\nPROMETHEUS_SERVICE_PORT=9090\nPROMETHEUS_SERVICE_PORT_PROMETHEUS=9090\nPWD=/job/model-code\nPYTHONPATH=:/job/model-code\nRESULT_DIR=/job/train-result-experiment-0b6446ce-bfc1-442c-932a-98949628bb49\nSHLVL=3\nSTATSDEXPORTER_PORT=tcp://172.21.163.204:9102\nSTATSDEXPORTER_PORT_9102_TCP=tcp://172.21.163.204:9102\nSTATSDEXPORTER_PORT_9102_TCP_ADDR=172.21.163.204\nSTATSDEXPORTER_PORT_9102_TCP_PORT=9102\nSTATSDEXPORTER_PORT_9102_TCP_PROTO=tcp\nSTATSDEXPORTER_PORT_9125_UDP=udp://172.21.163.204:9125\nSTATSDEXPORTER_PORT_9125_UDP_ADDR=172.21.163.204\nSTATSDEXPORTER_PORT_9125_UDP_PORT=9125\nSTATSDEXPORTER_PORT_9125_UDP_PROTO=udp\nSTATSDEXPORTER_SERVICE_HOST=172.21.163.204\nSTATSDEXPORTER_SERVICE_PORT=9102\nSTATSDEXPORTER_SERVICE_PORT_STATSD=9125\nSTATSDEXPORTER_SERVICE_PORT_STATSD_PROM=9102\nTF_CUDA_COMPUTE_CAPABILITIES=3.0,3.5,5.2,6.0,6.1\nTF_NEED_CUDA=1\nTRAINING_COMMAND=python3 convolutional_network.py --trainImagesFile ${DATA_DIR}/train-images-idx3-ubyte.gz --trainLabelsFile ${DATA_DIR}/train-labels-idx1-ubyte.gz --testImagesFile ${DATA_DIR}/t10k-images-idx3-ubyte.gz --testLabelsFile ${DATA_DIR}/t10k-labels-idx1-ubyte.gz --learningRate 0.001 --trainingIters 20000\nTRAINING_ID=training-TRNvoKCkR\n_=/usr/bin/env\nThu Feb  1 12:58:25 UTC 2018: Running Tensorflow job\n2018-02-01 12:58:27.671776: W tensorflow/core/platform/cpu_feature_guard.cc:45] The TensorFlow library wasn't compiled to use SSE4.1 instructions, but these are available on your machine and could speed up CPU computations.\n2018-02-01 12:58:27.671812: W tensorflow/core/platform/cpu_feature_guard.cc:45] The TensorFlow library wasn't compiled to use SSE4.2 instructions, but these are available on your machine and could speed up CPU computations.\n2018-02-01 12:58:27.671820: W tensorflow/core/platform/cpu_feature_guard.cc:45] The TensorFlow library wasn't compiled to use AVX instructions, but these are available on your machine and could speed up CPU computations.\n2018-02-01 12:58:27.671826: W tensorflow/core/platform/cpu_feature_guard.cc:45] The TensorFlow library wasn't compiled to use AVX2 instructions, but these are available on your machine and could speed up CPU computations.\n2018-02-01 12:58:27.671832: W tensorflow/core/platform/cpu_feature_guard.cc:45] The TensorFlow library wasn't compiled to use FMA instructions, but these are available on your machine and could speed up CPU computations.\n2018-02-01 12:58:27.929688: I tensorflow/core/common_runtime/gpu/gpu_device.cc:955] Found device 0 with properties:\nname: Tesla P100-PCIE-16GB\nmajor: 6 minor: 0 memoryClockRate (GHz) 1.3285\npciBusID 0000:81:00.0\nTotal memory: 15.89GiB\nFree memory: 15.60GiB\n2018-02-01 12:58:27.929729: I tensorflow/core/common_runtime/gpu/gpu_device.cc:976] DMA: 0\n2018-02-01 12:58:27.929738: I tensorflow/core/common_runtime/gpu/gpu_device.cc:986] 0:   Y\n2018-02-01 12:58:27.929748: I tensorflow/core/common_runtime/gpu/gpu_device.cc:1045] Creating TensorFlow device (/gpu:0) -> (device: 0, name: Tesla P100-PCIE-16GB, pci bus id: 0000:81:00.0)\nExtracting /job/train-data-experiment-0b6446ce-bfc1-442c-932a-98949628bb49/train-images-idx3-ubyte.gz\nExtracting /job/train-data-experiment-0b6446ce-bfc1-442c-932a-98949628bb49/train-labels-idx1-ubyte.gz\nExtracting /job/train-data-experiment-0b6446ce-bfc1-442c-932a-98949628bb49/t10k-images-idx3-ubyte.gz\nExtracting /job/train-data-experiment-0b6446ce-bfc1-442c-932a-98949628bb49/t10k-labels-idx1-ubyte.gz\nTime 1517489911.5585, instance 8471, Iter 1280, Training Accuracy= 0.17969\nTime 1517489911.6907, instance 8471, Iter 2560, Training Accuracy= 0.28125\nTime 1517489911.8188, instance 8471, Iter 3840, Training Accuracy= 0.36719\nTime 1517489911.9485, instance 8471, Iter 5120, Training Accuracy= 0.57031\nTime 1517489912.0771, instance 8471, Iter 6400, Training Accuracy= 0.64844\nTime 1517489912.2048, instance 8471, Iter 7680, Training Accuracy= 0.67188\nTime 1517489912.3336, instance 8471, Iter 8960, Training Accuracy= 0.67188\nTime 1517489912.4615, instance 8471, Iter 10240, Training Accuracy= 0.70312\nTime 1517489912.5909, instance 8471, Iter 11520, Training Accuracy= 0.80469\nTime 1517489912.7191, instance 8471, Iter 12800, Training Accuracy= 0.67188\nTime 1517489912.8457, instance 8471, Iter 14080, Training Accuracy= 0.78125\nTime 1517489912.9721, instance 8471, Iter 15360, Training Accuracy= 0.80469\nTime 1517489913.0980, instance 8471, Iter 16640, Training Accuracy= 0.83594\nTime 1517489913.2263, instance 8471, Iter 17920, Training Accuracy= 0.80469\nTime 1517489913.3546, instance 8471, Iter 19200, Training Accuracy= 0.77344\nOptimization Finished!\nclassification_signature content:\ninputs {\nkey: \"inputs\"\nvalue {\nname: \"x_input:0\"\ndtype: DT_FLOAT\ntensor_shape {\ndim {\nsize: -1\n}\ndim {\nsize: 784\n}\n}\n}\n}\noutputs {\nkey: \"classes\"\nvalue {\nname: \"predictor:0\"\ndtype: DT_INT64\ntensor_shape {\ndim {\nsize: -1\n}\n}\n}\n}\nmethod_name: \"tensorflow/serving/classify\"\nTesting Accuracy: 0.816406\n\n\n-----------------\nLog monitor done.\n-----------------\n\n\n"
                }
            ], 
            "source": "client.experiments.monitor_logs(experiment_run_id)"
        }, 
        {
            "source": "You can also monitor training quality metrics during experiment run.", 
            "cell_type": "markdown", 
            "metadata": {}
        }, 
        {
            "execution_count": 42, 
            "cell_type": "code", 
            "metadata": {}, 
            "outputs": [
                {
                    "output_type": "stream", 
                    "name": "stdout", 
                    "text": "\n\n###############################################################################\n\nMetric monitor started for experiment run: df109248-070c-43e9-aa40-f18169e1dbe6\n\n###############################################################################\n\n\n\n\n--------------------\nMetric monitor done.\n--------------------\n\n\n"
                }
            ], 
            "source": "client.experiments.monitor_metrics(experiment_run_id)"
        }, 
        {
            "source": "#### LIST experiment runs\nYou can list experiment run using `client.experiments.list()` method.", 
            "cell_type": "markdown", 
            "metadata": {}
        }, 
        {
            "execution_count": 43, 
            "cell_type": "code", 
            "metadata": {}, 
            "outputs": [
                {
                    "output_type": "stream", 
                    "name": "stdout", 
                    "text": "------------------------------------  ------------------------------------  -----------------  ---------  --------------------\nGUID (experiment)                     GUID (run)                            NAME (experiment)  STATE      CREATED\n92fc5618-db9c-4121-80d7-ed3f4552c0b1  df109248-070c-43e9-aa40-f18169e1dbe6  MNIST experiment   completed  2018-02-01T12:56:11Z\n------------------------------------  ------------------------------------  -----------------  ---------  --------------------\n"
                }
            ], 
            "source": "client.experiments.list()"
        }, 
        {
            "source": "#### LIST training runs trigered by experiment run", 
            "cell_type": "markdown", 
            "metadata": {}
        }, 
        {
            "execution_count": 44, 
            "cell_type": "code", 
            "metadata": {}, 
            "outputs": [
                {
                    "output_type": "stream", 
                    "name": "stdout", 
                    "text": "------------------  ---------  ---------  --------------------  --------------------  -----------\nGUID (training)     NAME       STATE      SUBMITTED             FINISHED              PERFORMANCE\ntraining-IQ3NoFCkg  mnist_nn   completed  2018-02-01T12:56:20Z  2018-02-01T12:58:20Z\ntraining-TRNvoKCkR  mnist_cnn  completed  2018-02-01T12:56:26Z  2018-02-01T12:58:41Z\n------------------  ---------  ---------  --------------------  --------------------  -----------\n"
                }
            ], 
            "source": "client.experiments.list_training_runs(experiment_run_id)"
        }, 
        {
            "source": "#### GET training runs detais", 
            "cell_type": "markdown", 
            "metadata": {}
        }, 
        {
            "execution_count": 45, 
            "cell_type": "code", 
            "metadata": {}, 
            "outputs": [], 
            "source": "training_runs_details = client.experiments.get_training_runs(experiment_run_details)"
        }, 
        {
            "source": "#### GET training runs uids", 
            "cell_type": "markdown", 
            "metadata": {}
        }, 
        {
            "execution_count": 46, 
            "cell_type": "code", 
            "metadata": {}, 
            "outputs": [
                {
                    "output_type": "stream", 
                    "name": "stdout", 
                    "text": "training-IQ3NoFCkg\ntraining-TRNvoKCkR\n"
                }
            ], 
            "source": "training_run_uids = client.experiments.get_training_uids(experiment_run_details)\n\nfor i in training_run_uids:\n    print(i)"
        }, 
        {
            "source": "<a id=\"model\"></a>\n### 4.2 Store trained model", 
            "cell_type": "markdown", 
            "metadata": {}
        }, 
        {
            "source": "#### Call this method to save model in Watson Machine Learning repository", 
            "cell_type": "markdown", 
            "metadata": {}
        }, 
        {
            "execution_count": 47, 
            "cell_type": "code", 
            "metadata": {}, 
            "outputs": [], 
            "source": "saved_model_details = client.repository.store_model(str(training_run_uids[0]), {'name': 'Mnist model'})"
        }, 
        {
            "source": "**Tip:** Run below code to extract stored model guid from dictionary.", 
            "cell_type": "markdown", 
            "metadata": {}
        }, 
        {
            "execution_count": 48, 
            "cell_type": "code", 
            "metadata": {}, 
            "outputs": [
                {
                    "output_type": "stream", 
                    "name": "stdout", 
                    "text": "Saved model guid: 21ee66aa-bf2a-421e-bb18-ade3f802e46d\n"
                }
            ], 
            "source": "model_guid = client.repository.get_model_uid(saved_model_details)\nprint(\"Saved model guid: \" + model_guid)"
        }, 
        {
            "source": "#### Call this method to list stored models", 
            "cell_type": "markdown", 
            "metadata": {}
        }, 
        {
            "execution_count": 49, 
            "cell_type": "code", 
            "metadata": {}, 
            "outputs": [
                {
                    "output_type": "stream", 
                    "name": "stdout", 
                    "text": "------------------------------------  ----------------------------  ------------------------  -----------------  -----\nGUID                                  NAME                          CREATED                   FRAMEWORK          TYPE\nd11edd8b-a8b9-4dde-8634-77a29ffa6434  Tumor_Type_Detection_v1_pipe  2018-01-31T14:46:00.929Z  scikit-learn-0.17  model\n7d29c62d-61cc-4876-9260-7b48210e7b2c  my_model                      2018-02-01T09:58:47.788Z  tensorflow-1.4     model\n7fac9a8d-242e-4964-89e2-510b7a765cb7  my_model                      2018-02-01T10:18:22.141Z  tensorflow-1.4     model\ndb69150c-bf42-4c6b-ba9e-5cbb5680f5ba  my_model                      2018-02-01T10:21:32.372Z  tensorflow-1.2     model\nfec67854-488f-49a4-a437-b1b5732d78b8  My cool mnist model           2018-02-01T11:28:19.402Z  tensorflow-1.2     model\n21ee66aa-bf2a-421e-bb18-ade3f802e46d  Mnist model                   2018-02-01T13:00:30.407Z  tensorflow-1.2     model\n------------------------------------  ----------------------------  ------------------------  -----------------  -----\n"
                }
            ], 
            "source": "client.repository.list_models()"
        }, 
        {
            "source": "### 4.3 Delete experiment-run", 
            "cell_type": "markdown", 
            "metadata": {}
        }, 
        {
            "source": "You can delete experiment runs and results by running below method.", 
            "cell_type": "markdown", 
            "metadata": {}
        }, 
        {
            "source": "client.experiments.delete(experiment_run_id)", 
            "cell_type": "raw", 
            "metadata": {}
        }, 
        {
            "source": "## 5. Create online deployment", 
            "cell_type": "markdown", 
            "metadata": {}
        }, 
        {
            "source": "You can deployed stored model as webservice (online) by running below method.", 
            "cell_type": "markdown", 
            "metadata": {}
        }, 
        {
            "execution_count": 50, 
            "cell_type": "code", 
            "metadata": {}, 
            "outputs": [], 
            "source": "deployment_details = client.deployments.create(name=\"Mnist model deployment\", model_uid=model_guid)"
        }, 
        {
            "execution_count": 51, 
            "cell_type": "code", 
            "metadata": {}, 
            "outputs": [
                {
                    "output_type": "stream", 
                    "name": "stdout", 
                    "text": "https://ibm-watson-ml.mybluemix.net/v3/wml_instances/fd1db635-c9f3-4d83-afc7-32efec367e5e/published_models/21ee66aa-bf2a-421e-bb18-ade3f802e46d/deployments/1616b19b-bd4c-4e77-b29f-fbe235497a35/online\n"
                }
            ], 
            "source": "scoring_url = client.deployments.get_scoring_url(deployment_details)\nprint(scoring_url)"
        }, 
        {
            "source": "## 6. Scoring", 
            "cell_type": "markdown", 
            "metadata": {
                "collapsed": true
            }
        }, 
        {
            "source": "Prepare sample scoring data to score deployed model.", 
            "cell_type": "markdown", 
            "metadata": {}
        }, 
        {
            "execution_count": 58, 
            "cell_type": "code", 
            "metadata": {}, 
            "outputs": [], 
            "source": "image1 = [0.000,0.000,0.000,0.000,0.000,0.000,0.000,0.000,0.000,0.000,0.000,0.000,0.000,0.000,0.000,0.000,0.000,0.000,0.000,0.000,0.000,0.000,0.000,0.000,0.000,0.000,0.000,0.000,0.000,0.000,0.000,0.000,0.000,0.000,0.000,0.000,0.000,0.000,0.000,0.000,0.000,0.000,0.000,0.000,0.000,0.000,0.000,0.000,0.000,0.000,0.000,0.000,0.000,0.000,0.000,0.000,0.000,0.000,0.000,0.000,0.000,0.000,0.000,0.000,0.000,0.000,0.000,0.000,0.000,0.000,0.000,0.000,0.000,0.000,0.000,0.000,0.000,0.000,0.000,0.000,0.000,0.000,0.000,0.000,0.000,0.000,0.000,0.000,0.000,0.000,0.000,0.000,0.000,0.000,0.000,0.000,0.000,0.000,0.000,0.000,0.000,0.000,0.000,0.000,0.000,0.000,0.000,0.000,0.000,0.000,0.000,0.000,0.000,0.000,0.000,0.000,0.000,0.000,0.000,0.000,0.000,0.000,0.000,0.000,0.000,0.000,0.000,0.000,0.000,0.000,0.000,0.000,0.000,0.000,0.000,0.000,0.000,0.000,0.000,0.000,0.000,0.000,0.000,0.000,0.000,0.000,0.000,0.000,0.000,0.000,0.000,0.000,0.639,0.757,0.596,0.361,0.200,0.200,0.200,0.200,0.122,0.000,0.000,0.000,0.000,0.000,0.000,0.000,0.000,0.000,0.000,0.000,0.000,0.000,0.000,0.000,0.000,0.000,0.000,0.082,0.875,0.992,0.988,0.992,0.988,0.992,0.988,0.992,0.753,0.322,0.000,0.000,0.000,0.000,0.000,0.000,0.000,0.000,0.000,0.000,0.000,0.000,0.000,0.000,0.000,0.000,0.000,0.200,0.992,0.400,0.000,0.082,0.400,0.243,0.400,0.400,0.239,0.718,0.157,0.000,0.000,0.000,0.000,0.000,0.000,0.000,0.000,0.000,0.000,0.000,0.000,0.000,0.000,0.000,0.000,0.200,0.988,0.400,0.000,0.000,0.000,0.000,0.000,0.000,0.000,0.239,0.000,0.000,0.000,0.000,0.000,0.000,0.000,0.000,0.000,0.000,0.000,0.000,0.000,0.000,0.000,0.000,0.000,0.200,0.992,0.400,0.000,0.000,0.000,0.000,0.000,0.000,0.000,0.000,0.000,0.000,0.000,0.000,0.000,0.000,0.000,0.000,0.000,0.000,0.000,0.000,0.000,0.000,0.000,0.000,0.000,0.361,0.988,0.400,0.000,0.000,0.000,0.000,0.000,0.000,0.000,0.000,0.000,0.000,0.000,0.000,0.000,0.000,0.000,0.000,0.000,0.000,0.000,0.000,0.000,0.000,0.000,0.000,0.000,0.678,0.992,0.400,0.000,0.000,0.000,0.000,0.000,0.000,0.000,0.000,0.000,0.000,0.000,0.000,0.000,0.000,0.000,0.000,0.000,0.000,0.000,0.000,0.000,0.000,0.000,0.000,0.000,0.992,0.988,0.875,0.796,0.796,0.796,0.322,0.000,0.000,0.000,0.000,0.000,0.000,0.000,0.000,0.000,0.000,0.000,0.000,0.000,0.000,0.000,0.000,0.000,0.000,0.000,0.000,0.482,0.996,0.992,0.878,0.796,0.796,0.875,0.996,0.278,0.000,0.000,0.000,0.000,0.000,0.000,0.000,0.000,0.000,0.000,0.000,0.000,0.000,0.000,0.000,0.000,0.000,0.000,0.161,0.953,0.992,0.510,0.078,0.000,0.000,0.078,0.992,0.910,0.161,0.000,0.000,0.000,0.000,0.000,0.000,0.000,0.000,0.000,0.000,0.000,0.000,0.000,0.000,0.000,0.000,0.000,0.596,0.992,0.718,0.000,0.000,0.000,0.000,0.000,0.518,0.992,0.400,0.000,0.000,0.000,0.000,0.000,0.000,0.000,0.000,0.000,0.000,0.000,0.000,0.000,0.000,0.000,0.000,0.000,0.200,0.592,0.078,0.000,0.000,0.000,0.000,0.000,0.200,0.988,0.400,0.000,0.000,0.000,0.000,0.000,0.000,0.000,0.000,0.000,0.000,0.000,0.000,0.000,0.000,0.000,0.000,0.000,0.082,0.000,0.000,0.000,0.000,0.000,0.000,0.000,0.443,0.992,0.400,0.000,0.000,0.000,0.000,0.000,0.000,0.000,0.000,0.000,0.000,0.000,0.000,0.000,0.000,0.000,0.000,0.322,0.718,0.000,0.000,0.000,0.000,0.000,0.000,0.000,0.757,0.988,0.400,0.000,0.000,0.000,0.000,0.000,0.000,0.000,0.000,0.000,0.000,0.000,0.000,0.000,0.000,0.000,0.000,0.796,0.718,0.000,0.000,0.000,0.000,0.000,0.000,0.082,0.996,0.992,0.161,0.000,0.000,0.000,0.000,0.000,0.000,0.000,0.000,0.000,0.000,0.000,0.000,0.000,0.000,0.000,0.082,0.875,0.400,0.000,0.000,0.000,0.000,0.000,0.082,0.796,0.992,0.510,0.000,0.000,0.000,0.000,0.000,0.000,0.000,0.000,0.000,0.000,0.000,0.000,0.000,0.000,0.000,0.000,0.000,0.800,0.482,0.000,0.000,0.000,0.000,0.161,0.678,0.992,0.796,0.078,0.000,0.000,0.000,0.000,0.000,0.000,0.000,0.000,0.000,0.000,0.000,0.000,0.000,0.000,0.000,0.000,0.000,0.635,0.875,0.400,0.082,0.400,0.639,0.953,0.992,0.671,0.078,0.000,0.000,0.000,0.000,0.000,0.000,0.000,0.000,0.000,0.000,0.000,0.000,0.000,0.000,0.000,0.000,0.000,0.000,0.161,0.918,0.992,1.000,0.992,1.000,0.675,0.322,0.000,0.000,0.000,0.000,0.000,0.000,0.000,0.000,0.000,0.000,0.000,0.000,0.000,0.000,0.000,0.000,0.000,0.000,0.000,0.000,0.000,0.118,0.514,0.753,0.435,0.196,0.039,0.000,0.000,0.000,0.000,0.000,0.000,0.000,0.000,0.000,0.000,0.000,0.000,0.000,0.000,0.000,0.000,0.000,0.000,0.000,0.000,0.000,0.000,0.000,0.000,0.000,0.000,0.000,0.000,0.000,0.000,0.000,0.000,0.000,0.000,0.000,0.000,0.000,0.000,0.000,0.000,0.000,0.000,0.000,0.000,0.000,0.000,0.000,0.000,0.000,0.000,0.000,0.000,0.000,0.000,0.000,0.000,0.000,0.000,0.000,0.000,0.000,0.000,0.000,0.000,0.000,0.000,0.000,0.000,0.000,0.000,0.000,0.000,0.000,0.000,0.000,0.000,0.000,0.000,0.000,0.000,0.000,0.000,0.000,0.000,0.000,0.000,0.000,0.000,0.000,0.000,0.000,0.000,0.000,0.000,0.000,0.000,0.000]\nimage2 = [0.000,0.000,0.000,0.000,0.000,0.000,0.000,0.000,0.000,0.000,0.000,0.000,0.000,0.000,0.000,0.000,0.000,0.000,0.000,0.000,0.000,0.000,0.000,0.000,0.000,0.000,0.000,0.000,0.000,0.000,0.000,0.000,0.000,0.000,0.000,0.000,0.000,0.000,0.000,0.000,0.000,0.000,0.000,0.000,0.000,0.000,0.000,0.000,0.000,0.000,0.000,0.000,0.000,0.000,0.000,0.000,0.000,0.000,0.000,0.000,0.000,0.000,0.000,0.000,0.000,0.000,0.000,0.000,0.000,0.000,0.000,0.000,0.000,0.000,0.000,0.000,0.000,0.000,0.000,0.000,0.000,0.000,0.000,0.000,0.000,0.000,0.000,0.000,0.000,0.000,0.000,0.000,0.000,0.000,0.000,0.000,0.000,0.000,0.000,0.000,0.000,0.000,0.000,0.000,0.000,0.000,0.000,0.000,0.000,0.000,0.000,0.000,0.000,0.000,0.000,0.000,0.000,0.000,0.000,0.000,0.000,0.000,0.000,0.000,0.000,0.000,0.000,0.000,0.000,0.000,0.000,0.000,0.000,0.000,0.000,0.000,0.000,0.000,0.000,0.000,0.000,0.000,0.000,0.000,0.000,0.000,0.000,0.000,0.000,0.000,0.196,0.878,0.000,0.000,0.000,0.000,0.000,0.000,0.000,0.275,0.114,0.000,0.000,0.000,0.000,0.000,0.000,0.000,0.000,0.000,0.000,0.000,0.000,0.000,0.000,0.000,0.000,0.000,0.475,0.906,0.000,0.000,0.000,0.000,0.000,0.000,0.000,0.580,0.659,0.000,0.000,0.000,0.000,0.000,0.000,0.000,0.000,0.000,0.000,0.000,0.000,0.000,0.000,0.000,0.000,0.016,0.765,0.906,0.000,0.000,0.000,0.000,0.000,0.000,0.000,0.376,0.824,0.043,0.000,0.000,0.000,0.000,0.000,0.000,0.000,0.000,0.000,0.000,0.000,0.000,0.000,0.000,0.000,0.271,0.988,0.525,0.000,0.000,0.000,0.000,0.000,0.000,0.000,0.447,0.988,0.082,0.000,0.000,0.000,0.000,0.000,0.000,0.000,0.000,0.000,0.000,0.000,0.000,0.000,0.000,0.176,0.925,0.851,0.047,0.000,0.000,0.000,0.000,0.000,0.000,0.000,0.753,0.988,0.082,0.000,0.000,0.000,0.000,0.000,0.000,0.000,0.000,0.000,0.000,0.000,0.000,0.000,0.000,0.659,0.969,0.208,0.000,0.000,0.000,0.000,0.000,0.000,0.000,0.071,1.000,0.992,0.082,0.000,0.000,0.000,0.000,0.000,0.000,0.000,0.000,0.000,0.000,0.000,0.000,0.000,0.329,0.949,0.827,0.000,0.000,0.000,0.000,0.000,0.000,0.000,0.000,0.553,0.992,0.741,0.020,0.000,0.000,0.000,0.000,0.000,0.000,0.000,0.000,0.000,0.000,0.000,0.000,0.000,0.663,0.988,0.416,0.000,0.000,0.000,0.000,0.000,0.000,0.000,0.125,0.910,0.980,0.259,0.000,0.000,0.000,0.000,0.000,0.000,0.000,0.000,0.000,0.000,0.000,0.000,0.000,0.059,0.882,0.988,0.000,0.000,0.000,0.000,0.000,0.000,0.000,0.000,0.525,0.988,0.827,0.000,0.000,0.000,0.000,0.000,0.000,0.000,0.000,0.000,0.000,0.000,0.000,0.000,0.000,0.086,0.988,0.643,0.000,0.000,0.000,0.000,0.000,0.000,0.000,0.000,0.663,0.988,0.655,0.000,0.000,0.000,0.000,0.000,0.000,0.000,0.000,0.000,0.000,0.000,0.000,0.000,0.000,0.035,0.800,0.820,0.071,0.000,0.000,0.000,0.000,0.000,0.000,0.086,0.992,0.992,0.420,0.000,0.000,0.000,0.000,0.000,0.000,0.000,0.000,0.000,0.000,0.000,0.000,0.000,0.000,0.000,0.663,0.988,0.780,0.333,0.333,0.333,0.333,0.506,0.643,0.765,0.988,0.988,0.416,0.000,0.000,0.000,0.000,0.000,0.000,0.000,0.000,0.000,0.000,0.000,0.000,0.000,0.000,0.000,0.161,0.667,0.961,0.988,0.988,0.988,0.988,0.910,0.906,0.984,0.988,0.988,0.035,0.000,0.000,0.000,0.000,0.000,0.000,0.000,0.000,0.000,0.000,0.000,0.000,0.000,0.000,0.000,0.000,0.000,0.192,0.329,0.329,0.329,0.329,0.000,0.000,0.631,0.988,0.988,0.000,0.000,0.000,0.000,0.000,0.000,0.000,0.000,0.000,0.000,0.000,0.000,0.000,0.000,0.000,0.000,0.000,0.000,0.000,0.000,0.000,0.000,0.000,0.000,0.000,0.498,0.988,0.988,0.176,0.000,0.000,0.000,0.000,0.000,0.000,0.000,0.000,0.000,0.000,0.000,0.000,0.000,0.000,0.000,0.000,0.000,0.000,0.000,0.000,0.000,0.000,0.000,0.000,0.502,0.992,0.992,0.000,0.000,0.000,0.000,0.000,0.000,0.000,0.000,0.000,0.000,0.000,0.000,0.000,0.000,0.000,0.000,0.000,0.000,0.000,0.000,0.000,0.000,0.000,0.000,0.000,0.498,0.988,0.988,0.000,0.000,0.000,0.000,0.000,0.000,0.000,0.000,0.000,0.000,0.000,0.000,0.000,0.000,0.000,0.000,0.000,0.000,0.000,0.000,0.000,0.000,0.000,0.000,0.000,0.529,0.988,0.957,0.000,0.000,0.000,0.000,0.000,0.000,0.000,0.000,0.000,0.000,0.000,0.000,0.000,0.000,0.000,0.000,0.000,0.000,0.000,0.000,0.000,0.000,0.000,0.000,0.000,0.910,0.925,0.435,0.000,0.000,0.000,0.000,0.000,0.000,0.000,0.000,0.000,0.000,0.000,0.000,0.000,0.000,0.000,0.000,0.000,0.000,0.000,0.000,0.000,0.000,0.000,0.000,0.000,0.702,0.259,0.000,0.000,0.000,0.000,0.000,0.000,0.000,0.000,0.000,0.000,0.000,0.000,0.000,0.000,0.000,0.000,0.000,0.000,0.000,0.000,0.000,0.000,0.000,0.000,0.000,0.000,0.000,0.000,0.000,0.000,0.000,0.000,0.000,0.000,0.000,0.000,0.000,0.000,0.000,0.000,0.000,0.000,0.000,0.000,0.000,0.000,0.000,0.000,0.000,0.000,0.000,0.000,0.000,0.000,0.000,0.000,0.000,0.000,0.000,0.000,0.000,0.000,0.000,0.000,0.000,0.000,0.000,0.000,0.000,0.000,0.000,0.000,0.000,0.000,0.000,0.000,0.000,0.000,0.000,0.000,0.000,0.000,0.000,0.000,0.000,0.000,0.000,0.000,0.000,0.000,0.000,0.000,0.000,0.000]"
        }, 
        {
            "execution_count": 59, 
            "cell_type": "code", 
            "metadata": {}, 
            "outputs": [], 
            "source": "%matplotlib inline\nimport matplotlib.pyplot as plt\nimport numpy as np"
        }, 
        {
            "execution_count": 60, 
            "cell_type": "code", 
            "metadata": {}, 
            "outputs": [
                {
                    "output_type": "display_data", 
                    "data": {
                        "image/png": "[encoded data removed]", 
                        "text/plain": "<matplotlib.figure.Figure at 0x7f19c26e1b38>"
                    }, 
                    "metadata": {}
                }
            ], 
            "source": "for i, image in enumerate([image1, image2]):\n    plt.subplot(2, 2, i + 1)\n    plt.axis('off')\n    plt.imshow( (np.reshape(image, (28, 28)) * 255).astype(np.uint8), cmap=plt.cm.gray_r, interpolation='nearest')"
        }, 
        {
            "source": "**Tip**: If plot fails please upgrade dask library.\n\n!pip install dask --upgrade", 
            "cell_type": "markdown", 
            "metadata": {}
        }, 
        {
            "source": "Build scoring dictionary consisting of two digits and send it to deployed model to get predictions.", 
            "cell_type": "markdown", 
            "metadata": {}
        }, 
        {
            "execution_count": 61, 
            "cell_type": "code", 
            "metadata": {}, 
            "outputs": [], 
            "source": "scoring_data = {'inputs': [image1, image2]}"
        }, 
        {
            "execution_count": 62, 
            "cell_type": "code", 
            "metadata": {}, 
            "outputs": [
                {
                    "output_type": "stream", 
                    "name": "stdout", 
                    "text": "Scoring result: {'classes': [5, 4]}\n"
                }
            ], 
            "source": "predictions = client.deployments.score(scoring_url, scoring_data)\nprint(\"Scoring result: \" + str(predictions))"
        }, 
        {
            "source": "<HR>", 
            "cell_type": "markdown", 
            "metadata": {}
        }, 
        {
            "source": "<a id=\"summary\"></a>\n## 7. Summary and next steps     ", 
            "cell_type": "markdown", 
            "metadata": {
                "collapsed": true
            }
        }, 
        {
            "source": " You successfully completed this notebook! You learned how to use `watson-machine-learning-client` to run experiments. Check out our _[Online Documentation](https://console.ng.bluemix.net/docs/services/PredictiveModeling/index.html)_ for more samples, tutorials, documentation, how-tos, and blog posts. ", 
            "cell_type": "markdown", 
            "metadata": {
                "collapsed": true
            }
        }, 
        {
            "source": "### Authors\n\n**Lukasz Cmielowski**, PhD, is a Automation Architect and Data Scientist in IBM with a track record of developing enterprise-level applications that substantially increases clients' ability to turn data into actionable knowledge.\n\n**Wojciech Sobala**, Data Scientist in IBM", 
            "cell_type": "markdown", 
            "metadata": {}
        }, 
        {
            "source": "Copyright \u00a9 2017 IBM. This notebook and its source code are released under the terms of the MIT License.", 
            "cell_type": "markdown", 
            "metadata": {}
        }
    ], 
    "metadata": {
        "kernelspec": {
            "display_name": "Python 3.5 (Experimental) with Spark 1.6 (Unsupported)", 
            "name": "python3", 
            "language": "python"
        }, 
        "language_info": {
            "mimetype": "text/x-python", 
            "nbconvert_exporter": "python", 
            "version": "3.5.2", 
            "name": "python", 
            "file_extension": ".py", 
            "pygments_lexer": "ipython3", 
            "codemirror_mode": {
                "version": 3, 
                "name": "ipython"
            }
        }
    }, 
    "nbformat": 4
}